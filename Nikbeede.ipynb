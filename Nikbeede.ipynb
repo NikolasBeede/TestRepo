{
 "cells": [
  {
   "cell_type": "markdown",
   "id": "3f1a9a4d",
   "metadata": {},
   "source": [
    "# Data Science Tools and Ecosystem"
   ]
  },
  {
   "cell_type": "markdown",
   "id": "71e8604b",
   "metadata": {},
   "source": [
    "In this notebook Data Science and Ecosystem will be summarized"
   ]
  },
  {
   "cell_type": "markdown",
   "id": "a6c7770a",
   "metadata": {},
   "source": [
    "Some popular languages that are useful for Data Scientist are: \n",
    "1. Python\n",
    "2. R\n",
    "3. SQL\n",
    "4. C++"
   ]
  },
  {
   "cell_type": "markdown",
   "id": "900a94da",
   "metadata": {},
   "source": [
    "Some comonly used libaraires used by Data Scientist are: \n",
    "1. TensorFlow\n",
    "2. Keras\n",
    "3. SciKit-Learn\n",
    "4. Pandas\n",
    "5. Numpy"
   ]
  },
  {
   "cell_type": "markdown",
   "id": "739a035f",
   "metadata": {},
   "source": [
    "| Tool Category | Tool Name | Description |\n",
    "|---|---|---|\n",
    "| **Programming Languages** | Python | Popular for data manipulation, analysis, and machine learning. |\n",
    "|  | R | Another popular language, especially for statistical computing. |\n",
    "| **Data Manipulation/Analysis** | Pandas | Powerful library for data manipulation and analysis in Python. |\n",
    "|  | NumPy | Fundamental package for numerical computing in Python. |\n",
    "|  | SQL | Standard language for managing and querying databases. |\n",
    "| **Machine Learning** | Scikit-learn | Comprehensive library for various machine learning algorithms in Python. |\n",
    "|  | TensorFlow | Open-source library for deep learning. |\n",
    "|  | PyTorch | Another popular deep learning framework. |\n",
    "| **Data Visualization** | Matplotlib | Library for creating static, interactive, and animated visualizations in Python. |\n",
    "|  | Seaborn |  Built on top of Matplotlib, providing a high-level interface for statistical data visualization. |\n",
    "|  | Tableau | Powerful commercial tool for interactive data visualization and business intelligence. |\n",
    "| **Cloud Computing/Big Data** | AWS (Amazon Web Services) | Cloud platform offering various services for data storage, processing, and machine learning. |\n",
    "|  | Azure | Microsoft's cloud platform. |\n",
    "|  | Google Cloud Platform (GCP) | Google's cloud platform. |\n",
    "| **Version Control** | Git | Distributed version control system for tracking changes in code and other files. |\n",
    "|  | GitHub | Web-based platform for hosting Git repositories. |\n",
    "| **Notebook Environments** | Jupyter Notebook | Interactive computing environment that supports various programming languages. |\n",
    "|  | <<!nav>>JupyterLab<<!/nav>> | Advanced, extensible environment for Jupyter notebooks. |\n",
    "|  | <<!nav>>Google Colab<<!/nav>> | Cloud-based Jupyter Notebook environment provided by Google. |"
   ]
  },
  {
   "cell_type": "markdown",
   "id": "2c1614bf",
   "metadata": {},
   "source": [
    "### Below is an example of using arithmetic expressions in Python"
   ]
  },
  {
   "cell_type": "markdown",
   "id": "f0b21ded",
   "metadata": {},
   "source": [
    " `2 + 2` gives **4**  \n",
    "- `3 - 1` gives **2**  \n",
    "- `3 * 5` gives **15**  \n",
    "- `20 / 5` gives **4.0**  \n",
    "- `2 ** 4` gives **16** (exponentiation)  \n",
    "- `5 % 2` gives **1** (modulus)\n",
    " $$\n",
    "        a^2 + b^2 = c^2\n",
    "        $$"
   ]
  },
  {
   "cell_type": "code",
   "execution_count": 5,
   "id": "c0ccf866",
   "metadata": {},
   "outputs": [
    {
     "data": {
      "text/plain": [
       "17"
      ]
     },
     "execution_count": 5,
     "metadata": {},
     "output_type": "execute_result"
    }
   ],
   "source": [
    "#this is a common arithemtic example to multiply and then add integers \n",
    "(3*4)+5 "
   ]
  },
  {
   "cell_type": "code",
   "execution_count": 6,
   "id": "2a79ac4b",
   "metadata": {},
   "outputs": [
    {
     "data": {
      "text/plain": [
       "3.3333333333333335"
      ]
     },
     "execution_count": 6,
     "metadata": {},
     "output_type": "execute_result"
    }
   ],
   "source": [
    "#this will convert 200 minutes to hours by dividing by 60 \n",
    "200/60"
   ]
  },
  {
   "cell_type": "markdown",
   "id": "dffe21cb",
   "metadata": {},
   "source": [
    "__Objective__\n",
    "* List popular languages for Data Science\n",
    "* List popular libraries for Data Science\n",
    "* List well known Data Science tools\n",
    "* How to Provide comments in the cell\n"
   ]
  },
  {
   "cell_type": "markdown",
   "id": "92b86170",
   "metadata": {},
   "source": [
    "## Author\n",
    "Nikolas Beede"
   ]
  }
 ],
 "metadata": {
  "kernelspec": {
   "display_name": "Python 3 (ipykernel)",
   "language": "python",
   "name": "python3"
  },
  "language_info": {
   "codemirror_mode": {
    "name": "ipython",
    "version": 3
   },
   "file_extension": ".py",
   "mimetype": "text/x-python",
   "name": "python",
   "nbconvert_exporter": "python",
   "pygments_lexer": "ipython3",
   "version": "3.12.8"
  }
 },
 "nbformat": 4,
 "nbformat_minor": 5
}
